{
 "cells": [
  {
   "cell_type": "markdown",
   "id": "d98bd970",
   "metadata": {},
   "source": [
    "<h2>2. Импорт библиотек</h2>"
   ]
  },
  {
   "cell_type": "code",
   "execution_count": 6,
   "id": "30212c3a",
   "metadata": {},
   "outputs": [],
   "source": [
    "#импорт библиотек\n",
    "import glob\n",
    "import os\n",
    "import pandas as pd\n",
    "import numpy as np\n",
    "import json\n",
    "import docx\n",
    "from bs4 import BeautifulSoup as bs\n",
    "import requests\n",
    "from tqdm.auto import tqdm, trange\n",
    "from pymystem3 import Mystem\n",
    "from nltk.stem.snowball import SnowballStemmer \n",
    "from nltk.tokenize import word_tokenize\n",
    "from nltk.stem import *\n",
    "from nltk.corpus import stopwords\n",
    "import string\n",
    "import re\n",
    "import pyLDAvis\n",
    "import pyLDAvis.lda_model\n",
    "import pymorphy2\n",
    "import warnings\n",
    "warnings.filterwarnings(\"ignore\")\n",
    "import pandas as pd\n",
    "import numpy as np\n",
    "from tqdm.auto import tqdm, trange\n",
    "from sklearn.naive_bayes import MultinomialNB\n",
    "from sklearn.pipeline import Pipeline\n",
    "from sklearn.feature_extraction.text import TfidfTransformer\n",
    "from sklearn.feature_extraction.text import CountVectorizer\n",
    "from sklearn.model_selection import train_test_split\n",
    "from sklearn.metrics import classification_report\n",
    "from sklearn.linear_model import SGDClassifier\n",
    "from sklearn.linear_model import LogisticRegression\n",
    "from sklearn.model_selection import RandomizedSearchCV\n",
    "from sklearn.model_selection import GridSearchCV\n",
    "from sklearn.metrics import roc_auc_score\n",
    "from sklearn.metrics import roc_curve\n",
    "import seaborn as sns\n",
    "from matplotlib import pyplot as plt\n",
    "from sklearn.preprocessing import LabelEncoder\n",
    "from sklearn.model_selection import RepeatedKFold\n",
    "from sklearn.linear_model import LogisticRegression\n",
    "from sklearn.model_selection import cross_val_score\n",
    "from imblearn.over_sampling import SMOTE\n",
    "from sklearn.preprocessing import StandardScaler\n",
    "import joblib\n",
    "from sklearn.preprocessing import LabelEncoder\n",
    "from sklearn.model_selection import train_test_split\n",
    "from sklearn.linear_model import LogisticRegression"
   ]
  },
  {
   "cell_type": "markdown",
   "id": "aa92b5b6",
   "metadata": {},
   "source": [
    "<h2>2.1 Построение модели классификации</h2>"
   ]
  },
  {
   "cell_type": "markdown",
   "id": "3b8b6b99",
   "metadata": {},
   "source": [
    "<h3>2.1.1 Разбиение выборки на обучающую и тестовую</h3>"
   ]
  },
  {
   "cell_type": "code",
   "execution_count": 9,
   "id": "9369844a",
   "metadata": {},
   "outputs": [],
   "source": [
    "df = pd.read_csv('dataset.csv')"
   ]
  },
  {
   "cell_type": "code",
   "execution_count": 10,
   "id": "a226ec43",
   "metadata": {},
   "outputs": [
    {
     "data": {
      "text/html": [
       "<div>\n",
       "<style scoped>\n",
       "    .dataframe tbody tr th:only-of-type {\n",
       "        vertical-align: middle;\n",
       "    }\n",
       "\n",
       "    .dataframe tbody tr th {\n",
       "        vertical-align: top;\n",
       "    }\n",
       "\n",
       "    .dataframe thead th {\n",
       "        text-align: right;\n",
       "    }\n",
       "</style>\n",
       "<table border=\"1\" class=\"dataframe\">\n",
       "  <thead>\n",
       "    <tr style=\"text-align: right;\">\n",
       "      <th></th>\n",
       "      <th>Unnamed: 0</th>\n",
       "      <th>namecompany</th>\n",
       "      <th>text</th>\n",
       "      <th>date</th>\n",
       "      <th>rating</th>\n",
       "      <th>industries</th>\n",
       "      <th>text_stem</th>\n",
       "      <th>text_sw</th>\n",
       "      <th>text_lemm</th>\n",
       "      <th>text_ps</th>\n",
       "      <th>keywords</th>\n",
       "      <th>bigrams</th>\n",
       "      <th>trigrams</th>\n",
       "      <th>target</th>\n",
       "    </tr>\n",
       "  </thead>\n",
       "  <tbody>\n",
       "    <tr>\n",
       "      <th>0</th>\n",
       "      <td>0</td>\n",
       "      <td>Cybersport</td>\n",
       "      <td>7 декабря состоялась церемония награждения лау...</td>\n",
       "      <td>8 декабря 09:30</td>\n",
       "      <td>94.926255</td>\n",
       "      <td>['Веб-разработка', 'Дизайн и юзабилити', 'Рекл...</td>\n",
       "      <td>декабр состоя церемон награжден лауреат прем р...</td>\n",
       "      <td>декабря состоялась церемония награждения лауре...</td>\n",
       "      <td>декабрь состояться церемония награждение лауре...</td>\n",
       "      <td>['(декабрь, NOUN)', '(состояться, INFN)', '(це...</td>\n",
       "      <td>{'agency': 0.027513674254937545, 'balance': 0....</td>\n",
       "      <td>{'agency проект': 0.047036043419179864, 'balan...</td>\n",
       "      <td>{'agency проект вебинклюзия': 0.05006261743217...</td>\n",
       "      <td>Нет номинации</td>\n",
       "    </tr>\n",
       "    <tr>\n",
       "      <th>1</th>\n",
       "      <td>1</td>\n",
       "      <td>ESforce Holding</td>\n",
       "      <td>7 декабря состоялась церемония награждения лау...</td>\n",
       "      <td>8 декабря 09:30</td>\n",
       "      <td>94.926255</td>\n",
       "      <td>['Веб-разработка', 'Дизайн и юзабилити', 'Рекл...</td>\n",
       "      <td>декабр состоя церемон награжден лауреат прем р...</td>\n",
       "      <td>декабря состоялась церемония награждения лауре...</td>\n",
       "      <td>декабрь состояться церемония награждение лауре...</td>\n",
       "      <td>['(декабрь, NOUN)', '(состояться, INFN)', '(це...</td>\n",
       "      <td>{'agency': 0.027513674254937545, 'balance': 0....</td>\n",
       "      <td>{'agency проект': 0.047036043419179864, 'balan...</td>\n",
       "      <td>{'agency проект вебинклюзия': 0.05006261743217...</td>\n",
       "      <td>Игровая индустрия и киберспорт</td>\n",
       "    </tr>\n",
       "    <tr>\n",
       "      <th>2</th>\n",
       "      <td>2</td>\n",
       "      <td>ESforce Holding</td>\n",
       "      <td>Из совместного исследования издателя компьютер...</td>\n",
       "      <td>29 июля 13:50</td>\n",
       "      <td>94.926255</td>\n",
       "      <td>['Веб-разработка', 'Дизайн и юзабилити', 'Рекл...</td>\n",
       "      <td>совместн исследован издател компьютерн игр war...</td>\n",
       "      <td>совместного исследования издателя компьютерных...</td>\n",
       "      <td>совместный исследование издатель компьютерный ...</td>\n",
       "      <td>['(совместный, ADJF)', '(исследование, NOUN)',...</td>\n",
       "      <td>{'and': 0.03980937143290165, 'assassin': 0.039...</td>\n",
       "      <td>{'and zombies': 0.05590169943749474, 'assassin...</td>\n",
       "      <td>{'and zombies серия': 0.05986843400892496, 'as...</td>\n",
       "      <td>Игровая индустрия и киберспорт</td>\n",
       "    </tr>\n",
       "    <tr>\n",
       "      <th>3</th>\n",
       "      <td>3</td>\n",
       "      <td>ESforce Holding</td>\n",
       "      <td>По статистике The Esports Observer за I полови...</td>\n",
       "      <td>9 июля 09:33</td>\n",
       "      <td>94.926255</td>\n",
       "      <td>['Веб-разработка', 'Дизайн и юзабилити', 'Рекл...</td>\n",
       "      <td>статистик the esports observer i половин год в...</td>\n",
       "      <td>статистике the esports observer i половину год...</td>\n",
       "      <td>статистика the esports observer i половина год...</td>\n",
       "      <td>['(статистика, NOUN)', '(the, None)', '(esport...</td>\n",
       "      <td>{'apex': 0.0331861655799986, 'auto': 0.0331861...</td>\n",
       "      <td>{'apex legends': 0.05598925109558543, 'auto мл...</td>\n",
       "      <td>{'apex legends млн': 0.05892556509887897, 'aut...</td>\n",
       "      <td>Игровая индустрия и киберспорт</td>\n",
       "    </tr>\n",
       "    <tr>\n",
       "      <th>4</th>\n",
       "      <td>4</td>\n",
       "      <td>ESforce Holding</td>\n",
       "      <td>Компании SuperData Research и PayPal провели с...</td>\n",
       "      <td>11 апреля 12:43</td>\n",
       "      <td>94.926255</td>\n",
       "      <td>['Веб-разработка', 'Дизайн и юзабилити', 'Рекл...</td>\n",
       "      <td>компан superdata research paypal провел совмес...</td>\n",
       "      <td>компании superdata research paypal провели сов...</td>\n",
       "      <td>компания superdata research paypal проводить с...</td>\n",
       "      <td>['(компания, NOUN)', '(superdata, None)', '(re...</td>\n",
       "      <td>{'are': 0.02857142857142857, 'arena': 0.028571...</td>\n",
       "      <td>{'are the': 0.04490132550669373, 'arena moscow...</td>\n",
       "      <td>{'are the world': 0.047836487323493986, 'arena...</td>\n",
       "      <td>Игровая индустрия и киберспорт</td>\n",
       "    </tr>\n",
       "  </tbody>\n",
       "</table>\n",
       "</div>"
      ],
      "text/plain": [
       "   Unnamed: 0      namecompany   \n",
       "0           0       Cybersport  \\\n",
       "1           1  ESforce Holding   \n",
       "2           2  ESforce Holding   \n",
       "3           3  ESforce Holding   \n",
       "4           4  ESforce Holding   \n",
       "\n",
       "                                                text             date   \n",
       "0  7 декабря состоялась церемония награждения лау...  8 декабря 09:30  \\\n",
       "1  7 декабря состоялась церемония награждения лау...  8 декабря 09:30   \n",
       "2  Из совместного исследования издателя компьютер...    29 июля 13:50   \n",
       "3  По статистике The Esports Observer за I полови...     9 июля 09:33   \n",
       "4  Компании SuperData Research и PayPal провели с...  11 апреля 12:43   \n",
       "\n",
       "      rating                                         industries   \n",
       "0  94.926255  ['Веб-разработка', 'Дизайн и юзабилити', 'Рекл...  \\\n",
       "1  94.926255  ['Веб-разработка', 'Дизайн и юзабилити', 'Рекл...   \n",
       "2  94.926255  ['Веб-разработка', 'Дизайн и юзабилити', 'Рекл...   \n",
       "3  94.926255  ['Веб-разработка', 'Дизайн и юзабилити', 'Рекл...   \n",
       "4  94.926255  ['Веб-разработка', 'Дизайн и юзабилити', 'Рекл...   \n",
       "\n",
       "                                           text_stem   \n",
       "0  декабр состоя церемон награжден лауреат прем р...  \\\n",
       "1  декабр состоя церемон награжден лауреат прем р...   \n",
       "2  совместн исследован издател компьютерн игр war...   \n",
       "3  статистик the esports observer i половин год в...   \n",
       "4  компан superdata research paypal провел совмес...   \n",
       "\n",
       "                                             text_sw   \n",
       "0  декабря состоялась церемония награждения лауре...  \\\n",
       "1  декабря состоялась церемония награждения лауре...   \n",
       "2  совместного исследования издателя компьютерных...   \n",
       "3  статистике the esports observer i половину год...   \n",
       "4  компании superdata research paypal провели сов...   \n",
       "\n",
       "                                           text_lemm   \n",
       "0  декабрь состояться церемония награждение лауре...  \\\n",
       "1  декабрь состояться церемония награждение лауре...   \n",
       "2  совместный исследование издатель компьютерный ...   \n",
       "3  статистика the esports observer i половина год...   \n",
       "4  компания superdata research paypal проводить с...   \n",
       "\n",
       "                                             text_ps   \n",
       "0  ['(декабрь, NOUN)', '(состояться, INFN)', '(це...  \\\n",
       "1  ['(декабрь, NOUN)', '(состояться, INFN)', '(це...   \n",
       "2  ['(совместный, ADJF)', '(исследование, NOUN)',...   \n",
       "3  ['(статистика, NOUN)', '(the, None)', '(esport...   \n",
       "4  ['(компания, NOUN)', '(superdata, None)', '(re...   \n",
       "\n",
       "                                            keywords   \n",
       "0  {'agency': 0.027513674254937545, 'balance': 0....  \\\n",
       "1  {'agency': 0.027513674254937545, 'balance': 0....   \n",
       "2  {'and': 0.03980937143290165, 'assassin': 0.039...   \n",
       "3  {'apex': 0.0331861655799986, 'auto': 0.0331861...   \n",
       "4  {'are': 0.02857142857142857, 'arena': 0.028571...   \n",
       "\n",
       "                                             bigrams   \n",
       "0  {'agency проект': 0.047036043419179864, 'balan...  \\\n",
       "1  {'agency проект': 0.047036043419179864, 'balan...   \n",
       "2  {'and zombies': 0.05590169943749474, 'assassin...   \n",
       "3  {'apex legends': 0.05598925109558543, 'auto мл...   \n",
       "4  {'are the': 0.04490132550669373, 'arena moscow...   \n",
       "\n",
       "                                            trigrams   \n",
       "0  {'agency проект вебинклюзия': 0.05006261743217...  \\\n",
       "1  {'agency проект вебинклюзия': 0.05006261743217...   \n",
       "2  {'and zombies серия': 0.05986843400892496, 'as...   \n",
       "3  {'apex legends млн': 0.05892556509887897, 'aut...   \n",
       "4  {'are the world': 0.047836487323493986, 'arena...   \n",
       "\n",
       "                           target  \n",
       "0                   Нет номинации  \n",
       "1  Игровая индустрия и киберспорт  \n",
       "2  Игровая индустрия и киберспорт  \n",
       "3  Игровая индустрия и киберспорт  \n",
       "4  Игровая индустрия и киберспорт  "
      ]
     },
     "execution_count": 10,
     "metadata": {},
     "output_type": "execute_result"
    }
   ],
   "source": [
    "df.head()"
   ]
  },
  {
   "cell_type": "code",
   "execution_count": 11,
   "id": "9d6e8073",
   "metadata": {},
   "outputs": [],
   "source": [
    "X = df['text_lemm']\n",
    "y = df['target']"
   ]
  },
  {
   "cell_type": "code",
   "execution_count": 12,
   "id": "119ae711",
   "metadata": {},
   "outputs": [],
   "source": [
    "X_train, X_test, y_train, y_test = train_test_split(X, y, test_size =0.3, random_state = 42)"
   ]
  },
  {
   "cell_type": "code",
   "execution_count": 13,
   "id": "5708cdba",
   "metadata": {},
   "outputs": [],
   "source": [
    "my_tags = df['target'].unique()"
   ]
  },
  {
   "cell_type": "code",
   "execution_count": 14,
   "id": "81100390",
   "metadata": {},
   "outputs": [
    {
     "data": {
      "text/plain": [
       "array(['Нет номинации', 'Игровая индустрия и киберспорт',\n",
       "       'Наука, технологии и инновации', 'Креативные индустрии',\n",
       "       'Образование и Кадры', 'Экономика и Бизнес'], dtype=object)"
      ]
     },
     "execution_count": 14,
     "metadata": {},
     "output_type": "execute_result"
    }
   ],
   "source": [
    "my_tags"
   ]
  },
  {
   "cell_type": "markdown",
   "id": "16bd69da",
   "metadata": {},
   "source": [
    "<h3>2.1.2 Классификация Naive Bayes</h3>"
   ]
  },
  {
   "cell_type": "code",
   "execution_count": 15,
   "id": "dbeadff7",
   "metadata": {},
   "outputs": [],
   "source": [
    "nb = Pipeline([('vect', CountVectorizer()),\n",
    "              ('tfidf', TfidfTransformer()),\n",
    "              ('clf', MultinomialNB()),])"
   ]
  },
  {
   "cell_type": "code",
   "execution_count": 16,
   "id": "c53334b6",
   "metadata": {},
   "outputs": [
    {
     "name": "stdout",
     "output_type": "stream",
     "text": [
      "CPU times: total: 1.62 s\n",
      "Wall time: 1.68 s\n"
     ]
    },
    {
     "data": {
      "text/html": [
       "<style>#sk-container-id-1 {color: black;background-color: white;}#sk-container-id-1 pre{padding: 0;}#sk-container-id-1 div.sk-toggleable {background-color: white;}#sk-container-id-1 label.sk-toggleable__label {cursor: pointer;display: block;width: 100%;margin-bottom: 0;padding: 0.3em;box-sizing: border-box;text-align: center;}#sk-container-id-1 label.sk-toggleable__label-arrow:before {content: \"▸\";float: left;margin-right: 0.25em;color: #696969;}#sk-container-id-1 label.sk-toggleable__label-arrow:hover:before {color: black;}#sk-container-id-1 div.sk-estimator:hover label.sk-toggleable__label-arrow:before {color: black;}#sk-container-id-1 div.sk-toggleable__content {max-height: 0;max-width: 0;overflow: hidden;text-align: left;background-color: #f0f8ff;}#sk-container-id-1 div.sk-toggleable__content pre {margin: 0.2em;color: black;border-radius: 0.25em;background-color: #f0f8ff;}#sk-container-id-1 input.sk-toggleable__control:checked~div.sk-toggleable__content {max-height: 200px;max-width: 100%;overflow: auto;}#sk-container-id-1 input.sk-toggleable__control:checked~label.sk-toggleable__label-arrow:before {content: \"▾\";}#sk-container-id-1 div.sk-estimator input.sk-toggleable__control:checked~label.sk-toggleable__label {background-color: #d4ebff;}#sk-container-id-1 div.sk-label input.sk-toggleable__control:checked~label.sk-toggleable__label {background-color: #d4ebff;}#sk-container-id-1 input.sk-hidden--visually {border: 0;clip: rect(1px 1px 1px 1px);clip: rect(1px, 1px, 1px, 1px);height: 1px;margin: -1px;overflow: hidden;padding: 0;position: absolute;width: 1px;}#sk-container-id-1 div.sk-estimator {font-family: monospace;background-color: #f0f8ff;border: 1px dotted black;border-radius: 0.25em;box-sizing: border-box;margin-bottom: 0.5em;}#sk-container-id-1 div.sk-estimator:hover {background-color: #d4ebff;}#sk-container-id-1 div.sk-parallel-item::after {content: \"\";width: 100%;border-bottom: 1px solid gray;flex-grow: 1;}#sk-container-id-1 div.sk-label:hover label.sk-toggleable__label {background-color: #d4ebff;}#sk-container-id-1 div.sk-serial::before {content: \"\";position: absolute;border-left: 1px solid gray;box-sizing: border-box;top: 0;bottom: 0;left: 50%;z-index: 0;}#sk-container-id-1 div.sk-serial {display: flex;flex-direction: column;align-items: center;background-color: white;padding-right: 0.2em;padding-left: 0.2em;position: relative;}#sk-container-id-1 div.sk-item {position: relative;z-index: 1;}#sk-container-id-1 div.sk-parallel {display: flex;align-items: stretch;justify-content: center;background-color: white;position: relative;}#sk-container-id-1 div.sk-item::before, #sk-container-id-1 div.sk-parallel-item::before {content: \"\";position: absolute;border-left: 1px solid gray;box-sizing: border-box;top: 0;bottom: 0;left: 50%;z-index: -1;}#sk-container-id-1 div.sk-parallel-item {display: flex;flex-direction: column;z-index: 1;position: relative;background-color: white;}#sk-container-id-1 div.sk-parallel-item:first-child::after {align-self: flex-end;width: 50%;}#sk-container-id-1 div.sk-parallel-item:last-child::after {align-self: flex-start;width: 50%;}#sk-container-id-1 div.sk-parallel-item:only-child::after {width: 0;}#sk-container-id-1 div.sk-dashed-wrapped {border: 1px dashed gray;margin: 0 0.4em 0.5em 0.4em;box-sizing: border-box;padding-bottom: 0.4em;background-color: white;}#sk-container-id-1 div.sk-label label {font-family: monospace;font-weight: bold;display: inline-block;line-height: 1.2em;}#sk-container-id-1 div.sk-label-container {text-align: center;}#sk-container-id-1 div.sk-container {/* jupyter's `normalize.less` sets `[hidden] { display: none; }` but bootstrap.min.css set `[hidden] { display: none !important; }` so we also need the `!important` here to be able to override the default hidden behavior on the sphinx rendered scikit-learn.org. See: https://github.com/scikit-learn/scikit-learn/issues/21755 */display: inline-block !important;position: relative;}#sk-container-id-1 div.sk-text-repr-fallback {display: none;}</style><div id=\"sk-container-id-1\" class=\"sk-top-container\"><div class=\"sk-text-repr-fallback\"><pre>Pipeline(steps=[(&#x27;vect&#x27;, CountVectorizer()), (&#x27;tfidf&#x27;, TfidfTransformer()),\n",
       "                (&#x27;clf&#x27;, MultinomialNB())])</pre><b>In a Jupyter environment, please rerun this cell to show the HTML representation or trust the notebook. <br />On GitHub, the HTML representation is unable to render, please try loading this page with nbviewer.org.</b></div><div class=\"sk-container\" hidden><div class=\"sk-item sk-dashed-wrapped\"><div class=\"sk-label-container\"><div class=\"sk-label sk-toggleable\"><input class=\"sk-toggleable__control sk-hidden--visually\" id=\"sk-estimator-id-1\" type=\"checkbox\" ><label for=\"sk-estimator-id-1\" class=\"sk-toggleable__label sk-toggleable__label-arrow\">Pipeline</label><div class=\"sk-toggleable__content\"><pre>Pipeline(steps=[(&#x27;vect&#x27;, CountVectorizer()), (&#x27;tfidf&#x27;, TfidfTransformer()),\n",
       "                (&#x27;clf&#x27;, MultinomialNB())])</pre></div></div></div><div class=\"sk-serial\"><div class=\"sk-item\"><div class=\"sk-estimator sk-toggleable\"><input class=\"sk-toggleable__control sk-hidden--visually\" id=\"sk-estimator-id-2\" type=\"checkbox\" ><label for=\"sk-estimator-id-2\" class=\"sk-toggleable__label sk-toggleable__label-arrow\">CountVectorizer</label><div class=\"sk-toggleable__content\"><pre>CountVectorizer()</pre></div></div></div><div class=\"sk-item\"><div class=\"sk-estimator sk-toggleable\"><input class=\"sk-toggleable__control sk-hidden--visually\" id=\"sk-estimator-id-3\" type=\"checkbox\" ><label for=\"sk-estimator-id-3\" class=\"sk-toggleable__label sk-toggleable__label-arrow\">TfidfTransformer</label><div class=\"sk-toggleable__content\"><pre>TfidfTransformer()</pre></div></div></div><div class=\"sk-item\"><div class=\"sk-estimator sk-toggleable\"><input class=\"sk-toggleable__control sk-hidden--visually\" id=\"sk-estimator-id-4\" type=\"checkbox\" ><label for=\"sk-estimator-id-4\" class=\"sk-toggleable__label sk-toggleable__label-arrow\">MultinomialNB</label><div class=\"sk-toggleable__content\"><pre>MultinomialNB()</pre></div></div></div></div></div></div></div>"
      ],
      "text/plain": [
       "Pipeline(steps=[('vect', CountVectorizer()), ('tfidf', TfidfTransformer()),\n",
       "                ('clf', MultinomialNB())])"
      ]
     },
     "execution_count": 16,
     "metadata": {},
     "output_type": "execute_result"
    }
   ],
   "source": [
    "%%time\n",
    "# Обучение модели\n",
    "nb.fit(X_train, y_train)"
   ]
  },
  {
   "cell_type": "code",
   "execution_count": 17,
   "id": "b48430d9",
   "metadata": {},
   "outputs": [
    {
     "name": "stdout",
     "output_type": "stream",
     "text": [
      "CPU times: total: 641 ms\n",
      "Wall time: 692 ms\n"
     ]
    }
   ],
   "source": [
    "%%time\n",
    "y_pred = nb.predict(X_test)"
   ]
  },
  {
   "cell_type": "code",
   "execution_count": 18,
   "id": "6d2d3dbe",
   "metadata": {},
   "outputs": [
    {
     "name": "stdout",
     "output_type": "stream",
     "text": [
      "accuracy 0.43485342019543977\n",
      "                                precision    recall  f1-score   support\n",
      "\n",
      "                 Нет номинации       0.00      0.00      0.00         2\n",
      "Игровая индустрия и киберспорт       0.00      0.00      0.00        71\n",
      " Наука, технологии и инновации       0.43      1.00      0.60       257\n",
      "          Креативные индустрии       1.00      0.08      0.15       120\n",
      "           Образование и Кадры       0.00      0.00      0.00       118\n",
      "            Экономика и Бизнес       0.00      0.00      0.00        46\n",
      "\n",
      "                      accuracy                           0.43       614\n",
      "                     macro avg       0.24      0.18      0.13       614\n",
      "                  weighted avg       0.37      0.43      0.28       614\n",
      "\n"
     ]
    }
   ],
   "source": [
    "# Результаты классификации naive bayes\n",
    "from sklearn.metrics import accuracy_score\n",
    "\n",
    "print('accuracy %s' % accuracy_score(y_pred, y_test))\n",
    "print(classification_report(y_test, y_pred, target_names=my_tags))"
   ]
  },
  {
   "cell_type": "code",
   "execution_count": null,
   "id": "c75fc4de",
   "metadata": {},
   "outputs": [],
   "source": []
  }
 ],
 "metadata": {
  "kernelspec": {
   "display_name": "Python 3 (ipykernel)",
   "language": "python",
   "name": "python3"
  },
  "language_info": {
   "codemirror_mode": {
    "name": "ipython",
    "version": 3
   },
   "file_extension": ".py",
   "mimetype": "text/x-python",
   "name": "python",
   "nbconvert_exporter": "python",
   "pygments_lexer": "ipython3",
   "version": "3.9.16"
  }
 },
 "nbformat": 4,
 "nbformat_minor": 5
}
